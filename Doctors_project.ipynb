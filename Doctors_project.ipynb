{
 "cells": [
  {
   "cell_type": "code",
   "execution_count": 7,
   "id": "bca127b6-3b22-44e0-826c-2b4ebb58859a",
   "metadata": {
    "tags": []
   },
   "outputs": [
    {
     "name": "stdout",
     "output_type": "stream",
     "text": [
      "Traceback (most recent call last):\n",
      "  File \"/Users/admin/opt/anaconda3/envs/deepfake/bin/pip\", line 5, in <module>\n",
      "    from pip import main\n",
      "  File \"/Users/admin/opt/anaconda3/envs/deepfake/lib/python3.11/site-packages/pip/__init__.py\", line 21, in <module>\n",
      "    from pip._vendor.requests.packages.urllib3.exceptions import DependencyWarning\n",
      "  File \"/Users/admin/opt/anaconda3/envs/deepfake/lib/python3.11/site-packages/pip/_vendor/requests/__init__.py\", line 65, in <module>\n",
      "    from . import utils\n",
      "  File \"/Users/admin/opt/anaconda3/envs/deepfake/lib/python3.11/site-packages/pip/_vendor/requests/utils.py\", line 27, in <module>\n",
      "    from .cookies import RequestsCookieJar, cookiejar_from_dict\n",
      "  File \"/Users/admin/opt/anaconda3/envs/deepfake/lib/python3.11/site-packages/pip/_vendor/requests/cookies.py\", line 172, in <module>\n",
      "    class RequestsCookieJar(cookielib.CookieJar, collections.MutableMapping):\n",
      "                                                 ^^^^^^^^^^^^^^^^^^^^^^^^^^\n",
      "AttributeError: module 'collections' has no attribute 'MutableMapping'\n"
     ]
    }
   ],
   "source": [
    "!pip install pyprep"
   ]
  },
  {
   "cell_type": "code",
   "execution_count": 9,
   "id": "a46edb80-5e16-497d-b9cf-e733c9fa4eba",
   "metadata": {
    "tags": []
   },
   "outputs": [],
   "source": [
    "#installing the libraries\n",
    "import mne\n",
    "import numpy as np\n",
    "import matplotlib.pyplot as plt\n",
    "import matplotlib\n",
    "import PyQt5\n",
    "from pathlib import Path\n",
    "\n",
    "#the following magic line will make all of your figures to be of the chosen size (in inches)\n",
    "%matplotlib qt5"
   ]
  },
  {
   "cell_type": "code",
   "execution_count": 25,
   "id": "69a75e34-9bfa-43bb-a99a-43cbb259d8f7",
   "metadata": {
    "tags": []
   },
   "outputs": [
    {
     "name": "stdout",
     "output_type": "stream",
     "text": [
      "Opening raw data file sub-026_experiment.fif...\n"
     ]
    },
    {
     "name": "stderr",
     "output_type": "stream",
     "text": [
      "/var/folders/0d/srp3ljxn63z_0h2m39s7f7sw0000gp/T/ipykernel_52188/1351300070.py:1: RuntimeWarning: This filename (sub-026_experiment.fif) does not conform to MNE naming conventions. All raw files should end with raw.fif, raw_sss.fif, raw_tsss.fif, _meg.fif, _eeg.fif, _ieeg.fif, raw.fif.gz, raw_sss.fif.gz, raw_tsss.fif.gz, _meg.fif.gz, _eeg.fif.gz or _ieeg.fif.gz\n",
      "  raw = mne.io.read_raw(\"sub-026_experiment.fif\", preload=True)\n"
     ]
    },
    {
     "name": "stdout",
     "output_type": "stream",
     "text": [
      "Isotrak not found\n",
      "    Range : 0 ... 2465474 =      0.000 ...  4930.948 secs\n",
      "Ready.\n",
      "Reading 0 ... 2465474  =      0.000 ...  4930.948 secs...\n",
      "Using pyopengl with version 3.1.6\n"
     ]
    },
    {
     "data": {
      "text/plain": [
       "<mne_qt_browser._pg_figure.MNEQtBrowser at 0x10de91510>"
      ]
     },
     "execution_count": 25,
     "metadata": {},
     "output_type": "execute_result"
    },
    {
     "name": "stdout",
     "output_type": "stream",
     "text": [
      "Channels marked as bad:\n",
      "none\n"
     ]
    }
   ],
   "source": [
    "raw = mne.io.read_raw(\"sub-026_experiment.fif\", preload=True)\n",
    "raw.plot()"
   ]
  },
  {
   "cell_type": "code",
   "execution_count": null,
   "id": "300fd310-52bd-455e-b414-478cc822d700",
   "metadata": {
    "tags": []
   },
   "outputs": [
    {
     "name": "stdout",
     "output_type": "stream",
     "text": [
      "Fitting ICA to data using 60 channels (please be patient, this may take a while)\n"
     ]
    },
    {
     "name": "stderr",
     "output_type": "stream",
     "text": [
      "/var/folders/0d/srp3ljxn63z_0h2m39s7f7sw0000gp/T/ipykernel_52188/3724474555.py:2: RuntimeWarning: The data has not been high-pass filtered. For good ICA performance, it should be high-pass filtered (e.g., with a 1.0 Hz lower bound) before fitting ICA.\n",
      "  ica.fit(raw)\n"
     ]
    },
    {
     "name": "stdout",
     "output_type": "stream",
     "text": [
      "Selecting by number: 20 components\n"
     ]
    }
   ],
   "source": [
    "ica = mne.preprocessing.ICA(n_components = 20)\n",
    "ica.fit(raw)"
   ]
  },
  {
   "cell_type": "code",
   "execution_count": null,
   "id": "5f8931c1-1959-4249-9edc-86ea0d8c6f97",
   "metadata": {},
   "outputs": [],
   "source": [
    "ica.plot_sources(raw)"
   ]
  },
  {
   "cell_type": "code",
   "execution_count": 10,
   "id": "27338fdf-6882-4601-a416-8cf451d19956",
   "metadata": {
    "tags": []
   },
   "outputs": [
    {
     "name": "stdout",
     "output_type": "stream",
     "text": [
      "Extracting parameters from sub-026.vhdr...\n",
      "Setting channel info structure...\n",
      "Reading 0 ... 2465474  =      0.000 ...  4930.948 secs...\n",
      "Using qt as 2D backend.\n",
      "Using pyopengl with version 3.1.6\n",
      "Channels marked as bad:\n",
      "['T7']\n",
      "Used Annotations descriptions: ['New Segment/', 'Stimulus/S  1', 'Stimulus/S  2', 'Stimulus/S  3', 'Stimulus/S  4', 'Stimulus/S  5', 'Stimulus/S 11', 'Stimulus/S 12', 'Stimulus/S 20', 'Stimulus/S 21', 'Stimulus/S 22', 'Stimulus/S 32']\n"
     ]
    },
    {
     "data": {
      "text/plain": [
       "122"
      ]
     },
     "execution_count": 10,
     "metadata": {},
     "output_type": "execute_result"
    }
   ],
   "source": [
    "sbj_id = 'sub-026'\n",
    "file_path = str(f'{sbj_id}.vhdr')\n",
    "raw = mne.io.read_raw_brainvision(file_path, eog=['HEOG', 'VEOG'], misc=['BIP1'], preload=True)\n",
    "raw.plot(block = True)\n",
    "raw.crop_by_annotations(raw.annotations[raw.annotations.description == 'select'])\n",
    "event_list = mne.events_from_annotations(raw)[0]\n",
    "len(event_list[event_list[:, 2] == 32])"
   ]
  },
  {
   "cell_type": "code",
   "execution_count": 12,
   "id": "43577dc8-6ba4-4efc-a540-cc64ff61894b",
   "metadata": {
    "tags": []
   },
   "outputs": [
    {
     "name": "stdout",
     "output_type": "stream",
     "text": [
      "Extracting parameters from sub-026.vhdr...\n",
      "Setting channel info structure...\n",
      "Reading 0 ... 2465474  =      0.000 ...  4930.948 secs...\n"
     ]
    }
   ],
   "source": [
    "sbj_id = 'sub-026'\n",
    "file_path = str(f'{sbj_id}.vhdr')\n",
    "raw = mne.io.read_raw_brainvision(file_path, eog=['HEOG', 'VEOG'], misc=['BIP1'], preload=True)"
   ]
  },
  {
   "cell_type": "raw",
   "id": "b70728a5-dd35-4dac-b1a0-2bedffca6ebb",
   "metadata": {},
   "source": [
    "raw.plot()"
   ]
  },
  {
   "cell_type": "code",
   "execution_count": 13,
   "id": "ed2896fd-7118-4e75-bf25-1b58a4615fa0",
   "metadata": {
    "tags": []
   },
   "outputs": [
    {
     "name": "stdout",
     "output_type": "stream",
     "text": [
      "Used Annotations descriptions: ['New Segment/', 'Stimulus/S  1', 'Stimulus/S  2', 'Stimulus/S  3', 'Stimulus/S  4', 'Stimulus/S  5', 'Stimulus/S 11', 'Stimulus/S 12', 'Stimulus/S 20', 'Stimulus/S 21', 'Stimulus/S 22', 'Stimulus/S 32']\n"
     ]
    },
    {
     "data": {
      "text/plain": [
       "572"
      ]
     },
     "execution_count": 13,
     "metadata": {},
     "output_type": "execute_result"
    }
   ],
   "source": [
    "event_list = mne.events_from_annotations(raw)[0]\n",
    "len(event_list[event_list[:, 2] == 3])"
   ]
  },
  {
   "cell_type": "code",
   "execution_count": 24,
   "id": "b8269e26-0258-4e85-b69b-c69ec4580aa7",
   "metadata": {
    "tags": []
   },
   "outputs": [
    {
     "name": "stdout",
     "output_type": "stream",
     "text": [
      "Writing /Users/admin/Downloads/sub-026_experiment.fif\n"
     ]
    },
    {
     "name": "stderr",
     "output_type": "stream",
     "text": [
      "/var/folders/0d/srp3ljxn63z_0h2m39s7f7sw0000gp/T/ipykernel_52188/668729922.py:1: RuntimeWarning: This filename (/Users/admin/Downloads/sub-026_experiment.fif) does not conform to MNE naming conventions. All raw files should end with raw.fif, raw_sss.fif, raw_tsss.fif, _meg.fif, _eeg.fif, _ieeg.fif, raw.fif.gz, raw_sss.fif.gz, raw_tsss.fif.gz, _meg.fif.gz, _eeg.fif.gz or _ieeg.fif.gz\n",
      "  raw.save('sub-026_experiment.fif', overwrite = True)\n"
     ]
    },
    {
     "name": "stdout",
     "output_type": "stream",
     "text": [
      "Closing /Users/admin/Downloads/sub-026_experiment.fif\n",
      "[done]\n"
     ]
    }
   ],
   "source": [
    "raw.save('sub-026_experiment.fif', overwrite = True)"
   ]
  },
  {
   "cell_type": "code",
   "execution_count": 15,
   "id": "97ec358d-0947-4e78-a1e1-24dd7231e516",
   "metadata": {
    "tags": []
   },
   "outputs": [
    {
     "data": {
      "text/plain": [
       "array([[      0,       0,   99999],\n",
       "       [  28211,       0,       1],\n",
       "       [  28711,       0,      12],\n",
       "       ...,\n",
       "       [2456923,       0,       3],\n",
       "       [2457231,       0,       4],\n",
       "       [2457406,       0,       5]])"
      ]
     },
     "execution_count": 15,
     "metadata": {},
     "output_type": "execute_result"
    }
   ],
   "source": [
    "event_list"
   ]
  },
  {
   "cell_type": "code",
   "execution_count": 16,
   "id": "e979c6c3-25a4-4ef1-b7b8-0559e3c41e4c",
   "metadata": {
    "tags": []
   },
   "outputs": [
    {
     "name": "stdout",
     "output_type": "stream",
     "text": [
      "Used Annotations descriptions: ['New Segment/', 'Stimulus/S  1', 'Stimulus/S  2', 'Stimulus/S  3', 'Stimulus/S  4', 'Stimulus/S  5', 'Stimulus/S 11', 'Stimulus/S 12', 'Stimulus/S 20', 'Stimulus/S 21', 'Stimulus/S 22', 'Stimulus/S 32']\n"
     ]
    },
    {
     "data": {
      "text/plain": [
       "122"
      ]
     },
     "execution_count": 16,
     "metadata": {},
     "output_type": "execute_result"
    }
   ],
   "source": [
    "raw.crop_by_annotations(raw.annotations[raw.annotations.description == 'select'])\n",
    "event_list = mne.events_from_annotations(raw)[0]\n",
    "len(event_list[event_list[:, 2] == 32])"
   ]
  },
  {
   "cell_type": "code",
   "execution_count": 17,
   "id": "81b507c0-4c9c-4031-b5e3-f047790392cf",
   "metadata": {
    "tags": []
   },
   "outputs": [
    {
     "name": "stdout",
     "output_type": "stream",
     "text": [
      "Used Annotations descriptions: ['New Segment/', 'Stimulus/S  1', 'Stimulus/S  2', 'Stimulus/S  3', 'Stimulus/S  4', 'Stimulus/S  5', 'Stimulus/S 11', 'Stimulus/S 12', 'Stimulus/S 20', 'Stimulus/S 21', 'Stimulus/S 22', 'Stimulus/S 32']\n"
     ]
    },
    {
     "data": {
      "text/plain": [
       "572"
      ]
     },
     "execution_count": 17,
     "metadata": {},
     "output_type": "execute_result"
    }
   ],
   "source": [
    "#raw.crop(tmax = 3022)\n",
    "event_list = mne.events_from_annotations(raw)[0]\n",
    "len(event_list[event_list[:, 2] == 3])"
   ]
  },
  {
   "cell_type": "code",
   "execution_count": 18,
   "id": "abc8b3aa-d9ec-43ed-b53a-13d397f84489",
   "metadata": {
    "tags": []
   },
   "outputs": [
    {
     "data": {
      "text/plain": [
       "array([[      0,       0,   99999],\n",
       "       [  28211,       0,       1],\n",
       "       [  28711,       0,      12],\n",
       "       ...,\n",
       "       [2456923,       0,       3],\n",
       "       [2457231,       0,       4],\n",
       "       [2457406,       0,       5]])"
      ]
     },
     "execution_count": 18,
     "metadata": {},
     "output_type": "execute_result"
    }
   ],
   "source": [
    "event_list"
   ]
  },
  {
   "cell_type": "code",
   "execution_count": 19,
   "id": "a340a506-b423-49f9-bdad-46c6458f3065",
   "metadata": {
    "tags": []
   },
   "outputs": [],
   "source": [
    "def find_bads(raw):\n",
    "    nc = pyprep.find_noisy_channels.NoisyChannels(raw.copy().pick_types(eeg=True))\n",
    "    nc.find_bads_by_deviation(2.5)\n",
    "    return nc.get_bads()"
   ]
  },
  {
   "cell_type": "code",
   "execution_count": 20,
   "id": "36f44131-89c6-451a-b980-1eb03e2beb32",
   "metadata": {
    "tags": []
   },
   "outputs": [],
   "source": [
    "rename_mapping = {\n",
    "    \"FCz\": \"C1\",\n",
    "    \"C1\": \"C5\",\n",
    "    \"C5\": \"TP7\",\n",
    "    \"TP7\": \"CP3\",\n",
    "    \"CP3\": \"P1\",\n",
    "    \"P1\": \"P5\",\n",
    "    \"P5\": \"PO7\",\n",
    "    \"PO7\": \"PO3\",\n",
    "    \"PO3\": \"POz\",\n",
    "    \"POz\": \"PO4\",\n",
    "    \"PO4\": \"PO8\",\n",
    "    \"PO8\": \"P6\",\n",
    "    \"P6\": \"P2\",\n",
    "    \"P2\": \"CPz\",\n",
    "    \"CPz\": \"CP4\",\n",
    "    \"CP4\": \"TP8\",\n",
    "    \"TP8\": \"C6\",\n",
    "    \"C6\": \"C2\",\n",
    "    \"C2\": \"FC4\",\n",
    "    \"FC4\": \"FT8\",\n",
    "    \"FT8\": \"F6\",\n",
    "    \"F6\": \"AF8\",\n",
    "    \"F2\": \"AF4\",\n",
    "    \"AF4\": \"F2\",\n",
    "    \"AF8\": \"FCz\"\n",
    "}\n",
    "montage = mne.channels.make_standard_montage(\"standard_1020\")"
   ]
  },
  {
   "cell_type": "code",
   "execution_count": 21,
   "id": "c4ca2753-123c-496c-9342-40e937fb3b7b",
   "metadata": {
    "tags": []
   },
   "outputs": [],
   "source": [
    "def data_cropper(raw):\n",
    "    event_list = mne.events_from_annotations(raw)[0]\n",
    "    t1 = (event_list[event_list[:, 2] == 32][61, 0] + 500)/500\n",
    "    t2 = (event_list[event_list[:, 2] == 1][3*62, 0] - 500)/500\n",
    "    try:\n",
    "        t3 = (event_list[event_list[:, 2] == 32][121, 0] + 500)/500\n",
    "    except:\n",
    "        t3 = (event_list[event_list[:, 2] == 32][120, 0] + 500)/500\n",
    "    raw1 = raw.copy().crop((event_list[1,0] - 1000)/500, t1)\n",
    "    raw2 = raw.copy().crop(t2, t3)\n",
    "    output = [raw1, raw2]\n",
    "    t1 = ((event_list[event_list[:, 2] == 2][0, 0])-500)/500\n",
    "    t4 = ((event_list[event_list[:, 2] == 5][449, 0])+500)/500\n",
    "    output.append(raw.copy().crop(t1, t4))\n",
    "    #output[0].plot()\n",
    "    #output[1].plot()\n",
    "    #output[2].plot()\n",
    "    return output"
   ]
  },
  {
   "cell_type": "markdown",
   "id": "afa28e16-06dc-41fd-aaa3-5268507f96b5",
   "metadata": {},
   "source": [
    "Можно сразу запустить блок ниже"
   ]
  },
  {
   "cell_type": "code",
   "execution_count": 22,
   "id": "c5f30926-cbb8-4cb0-ac5d-259f09789460",
   "metadata": {
    "tags": []
   },
   "outputs": [
    {
     "name": "stdout",
     "output_type": "stream",
     "text": [
      "Start working with: sub-011\n",
      "Extracting parameters from sub-011.vhdr...\n"
     ]
    },
    {
     "ename": "FileNotFoundError",
     "evalue": "[Errno 2] No such file or directory: '/Users/admin/Downloads/sub-011.vhdr'",
     "output_type": "error",
     "traceback": [
      "\u001b[0;31m---------------------------------------------------------------------------\u001b[0m",
      "\u001b[0;31mFileNotFoundError\u001b[0m                         Traceback (most recent call last)",
      "Cell \u001b[0;32mIn[22], line 8\u001b[0m\n\u001b[1;32m      6\u001b[0m \u001b[38;5;28mprint\u001b[39m(\u001b[38;5;124m'\u001b[39m\u001b[38;5;124mStart working with:\u001b[39m\u001b[38;5;124m'\u001b[39m, sbj_id)\n\u001b[1;32m      7\u001b[0m file_path \u001b[38;5;241m=\u001b[39m \u001b[38;5;28mstr\u001b[39m(\u001b[38;5;124mf\u001b[39m\u001b[38;5;124m'\u001b[39m\u001b[38;5;132;01m{\u001b[39;00msbj_id\u001b[38;5;132;01m}\u001b[39;00m\u001b[38;5;124m.vhdr\u001b[39m\u001b[38;5;124m'\u001b[39m)\n\u001b[0;32m----> 8\u001b[0m raw \u001b[38;5;241m=\u001b[39m \u001b[43mmne\u001b[49m\u001b[38;5;241;43m.\u001b[39;49m\u001b[43mio\u001b[49m\u001b[38;5;241;43m.\u001b[39;49m\u001b[43mread_raw_brainvision\u001b[49m\u001b[43m(\u001b[49m\u001b[43mfile_path\u001b[49m\u001b[43m,\u001b[49m\u001b[43m \u001b[49m\u001b[43meog\u001b[49m\u001b[38;5;241;43m=\u001b[39;49m\u001b[43m[\u001b[49m\u001b[38;5;124;43m'\u001b[39;49m\u001b[38;5;124;43mHEOG\u001b[39;49m\u001b[38;5;124;43m'\u001b[39;49m\u001b[43m,\u001b[49m\u001b[43m \u001b[49m\u001b[38;5;124;43m'\u001b[39;49m\u001b[38;5;124;43mVEOG\u001b[39;49m\u001b[38;5;124;43m'\u001b[39;49m\u001b[43m]\u001b[49m\u001b[43m,\u001b[49m\u001b[43m \u001b[49m\u001b[43mmisc\u001b[49m\u001b[38;5;241;43m=\u001b[39;49m\u001b[43m[\u001b[49m\u001b[38;5;124;43m'\u001b[39;49m\u001b[38;5;124;43mBIP1\u001b[39;49m\u001b[38;5;124;43m'\u001b[39;49m\u001b[43m]\u001b[49m\u001b[43m,\u001b[49m\u001b[43m \u001b[49m\u001b[43mpreload\u001b[49m\u001b[38;5;241;43m=\u001b[39;49m\u001b[38;5;28;43;01mTrue\u001b[39;49;00m\u001b[43m)\u001b[49m\n\u001b[1;32m      9\u001b[0m raw\u001b[38;5;241m.\u001b[39mrename_channels(rename_mapping)\n\u001b[1;32m     10\u001b[0m raw\u001b[38;5;241m.\u001b[39mset_montage(montage)\n",
      "File \u001b[0;32m~/opt/anaconda3/envs/deepfake/lib/python3.11/site-packages/mne/io/brainvision/brainvision.py:888\u001b[0m, in \u001b[0;36mread_raw_brainvision\u001b[0;34m(vhdr_fname, eog, misc, scale, preload, verbose)\u001b[0m\n\u001b[1;32m    854\u001b[0m \u001b[38;5;129m@fill_doc\u001b[39m\n\u001b[1;32m    855\u001b[0m \u001b[38;5;28;01mdef\u001b[39;00m \u001b[38;5;21mread_raw_brainvision\u001b[39m(vhdr_fname,\n\u001b[1;32m    856\u001b[0m                          eog\u001b[38;5;241m=\u001b[39m(\u001b[38;5;124m'\u001b[39m\u001b[38;5;124mHEOGL\u001b[39m\u001b[38;5;124m'\u001b[39m, \u001b[38;5;124m'\u001b[39m\u001b[38;5;124mHEOGR\u001b[39m\u001b[38;5;124m'\u001b[39m, \u001b[38;5;124m'\u001b[39m\u001b[38;5;124mVEOGb\u001b[39m\u001b[38;5;124m'\u001b[39m), misc\u001b[38;5;241m=\u001b[39m\u001b[38;5;124m'\u001b[39m\u001b[38;5;124mauto\u001b[39m\u001b[38;5;124m'\u001b[39m,\n\u001b[1;32m    857\u001b[0m                          scale\u001b[38;5;241m=\u001b[39m\u001b[38;5;241m1.\u001b[39m, preload\u001b[38;5;241m=\u001b[39m\u001b[38;5;28;01mFalse\u001b[39;00m, verbose\u001b[38;5;241m=\u001b[39m\u001b[38;5;28;01mNone\u001b[39;00m):\n\u001b[1;32m    858\u001b[0m \u001b[38;5;250m    \u001b[39m\u001b[38;5;124;03m\"\"\"Reader for Brain Vision EEG file.\u001b[39;00m\n\u001b[1;32m    859\u001b[0m \n\u001b[1;32m    860\u001b[0m \u001b[38;5;124;03m    Parameters\u001b[39;00m\n\u001b[0;32m   (...)\u001b[0m\n\u001b[1;32m    886\u001b[0m \u001b[38;5;124;03m    mne.io.Raw : Documentation of attribute and methods.\u001b[39;00m\n\u001b[1;32m    887\u001b[0m \u001b[38;5;124;03m    \"\"\"\u001b[39;00m\n\u001b[0;32m--> 888\u001b[0m     \u001b[38;5;28;01mreturn\u001b[39;00m \u001b[43mRawBrainVision\u001b[49m\u001b[43m(\u001b[49m\u001b[43mvhdr_fname\u001b[49m\u001b[38;5;241;43m=\u001b[39;49m\u001b[43mvhdr_fname\u001b[49m\u001b[43m,\u001b[49m\u001b[43m \u001b[49m\u001b[43meog\u001b[49m\u001b[38;5;241;43m=\u001b[39;49m\u001b[43meog\u001b[49m\u001b[43m,\u001b[49m\n\u001b[1;32m    889\u001b[0m \u001b[43m                          \u001b[49m\u001b[43mmisc\u001b[49m\u001b[38;5;241;43m=\u001b[39;49m\u001b[43mmisc\u001b[49m\u001b[43m,\u001b[49m\u001b[43m \u001b[49m\u001b[43mscale\u001b[49m\u001b[38;5;241;43m=\u001b[39;49m\u001b[43mscale\u001b[49m\u001b[43m,\u001b[49m\u001b[43m \u001b[49m\u001b[43mpreload\u001b[49m\u001b[38;5;241;43m=\u001b[39;49m\u001b[43mpreload\u001b[49m\u001b[43m,\u001b[49m\n\u001b[1;32m    890\u001b[0m \u001b[43m                          \u001b[49m\u001b[43mverbose\u001b[49m\u001b[38;5;241;43m=\u001b[39;49m\u001b[43mverbose\u001b[49m\u001b[43m)\u001b[49m\n",
      "File \u001b[0;32m<decorator-gen-240>:12\u001b[0m, in \u001b[0;36m__init__\u001b[0;34m(self, vhdr_fname, eog, misc, scale, preload, verbose)\u001b[0m\n",
      "File \u001b[0;32m~/opt/anaconda3/envs/deepfake/lib/python3.11/site-packages/mne/io/brainvision/brainvision.py:75\u001b[0m, in \u001b[0;36mRawBrainVision.__init__\u001b[0;34m(self, vhdr_fname, eog, misc, scale, preload, verbose)\u001b[0m\n\u001b[1;32m     72\u001b[0m ext \u001b[38;5;241m=\u001b[39m op\u001b[38;5;241m.\u001b[39msplitext(hdr_fname)[\u001b[38;5;241m-\u001b[39m\u001b[38;5;241m1\u001b[39m]\n\u001b[1;32m     73\u001b[0m ahdr_format \u001b[38;5;241m=\u001b[39m \u001b[38;5;28;01mTrue\u001b[39;00m \u001b[38;5;28;01mif\u001b[39;00m ext \u001b[38;5;241m==\u001b[39m \u001b[38;5;124m'\u001b[39m\u001b[38;5;124m.ahdr\u001b[39m\u001b[38;5;124m'\u001b[39m \u001b[38;5;28;01melse\u001b[39;00m \u001b[38;5;28;01mFalse\u001b[39;00m\n\u001b[1;32m     74\u001b[0m (info, data_fname, fmt, order, n_samples, mrk_fname, montage,\n\u001b[0;32m---> 75\u001b[0m  orig_units) \u001b[38;5;241m=\u001b[39m \u001b[43m_get_hdr_info\u001b[49m\u001b[43m(\u001b[49m\u001b[43mhdr_fname\u001b[49m\u001b[43m,\u001b[49m\u001b[43m \u001b[49m\u001b[43meog\u001b[49m\u001b[43m,\u001b[49m\u001b[43m \u001b[49m\u001b[43mmisc\u001b[49m\u001b[43m,\u001b[49m\u001b[43m \u001b[49m\u001b[43mscale\u001b[49m\u001b[43m)\u001b[49m\n\u001b[1;32m     77\u001b[0m \u001b[38;5;28;01mwith\u001b[39;00m \u001b[38;5;28mopen\u001b[39m(data_fname, \u001b[38;5;124m'\u001b[39m\u001b[38;5;124mrb\u001b[39m\u001b[38;5;124m'\u001b[39m) \u001b[38;5;28;01mas\u001b[39;00m f:\n\u001b[1;32m     78\u001b[0m     \u001b[38;5;28;01mif\u001b[39;00m \u001b[38;5;28misinstance\u001b[39m(fmt, \u001b[38;5;28mdict\u001b[39m):  \u001b[38;5;66;03m# ASCII, this will be slow :(\u001b[39;00m\n",
      "File \u001b[0;32m~/opt/anaconda3/envs/deepfake/lib/python3.11/site-packages/mne/io/brainvision/brainvision.py:475\u001b[0m, in \u001b[0;36m_get_hdr_info\u001b[0;34m(hdr_fname, eog, misc, scale)\u001b[0m\n\u001b[1;32m    471\u001b[0m \u001b[38;5;28;01mif\u001b[39;00m ext \u001b[38;5;129;01mnot\u001b[39;00m \u001b[38;5;129;01min\u001b[39;00m (\u001b[38;5;124m'\u001b[39m\u001b[38;5;124m.vhdr\u001b[39m\u001b[38;5;124m'\u001b[39m, \u001b[38;5;124m'\u001b[39m\u001b[38;5;124m.ahdr\u001b[39m\u001b[38;5;124m'\u001b[39m):\n\u001b[1;32m    472\u001b[0m     \u001b[38;5;28;01mraise\u001b[39;00m \u001b[38;5;167;01mIOError\u001b[39;00m(\u001b[38;5;124m\"\u001b[39m\u001b[38;5;124mThe header file must be given to read the data, \u001b[39m\u001b[38;5;124m\"\u001b[39m\n\u001b[1;32m    473\u001b[0m                   \u001b[38;5;124m\"\u001b[39m\u001b[38;5;124mnot a file with extension \u001b[39m\u001b[38;5;124m'\u001b[39m\u001b[38;5;132;01m%s\u001b[39;00m\u001b[38;5;124m'\u001b[39m\u001b[38;5;124m.\u001b[39m\u001b[38;5;124m\"\u001b[39m \u001b[38;5;241m%\u001b[39m ext)\n\u001b[0;32m--> 475\u001b[0m settings, cfg, cinfostr, info \u001b[38;5;241m=\u001b[39m \u001b[43m_aux_hdr_info\u001b[49m\u001b[43m(\u001b[49m\u001b[43mhdr_fname\u001b[49m\u001b[43m)\u001b[49m\n\u001b[1;32m    476\u001b[0m info\u001b[38;5;241m.\u001b[39m_unlocked \u001b[38;5;241m=\u001b[39m \u001b[38;5;28;01mTrue\u001b[39;00m\n\u001b[1;32m    478\u001b[0m order \u001b[38;5;241m=\u001b[39m cfg\u001b[38;5;241m.\u001b[39mget(cinfostr, \u001b[38;5;124m'\u001b[39m\u001b[38;5;124mDataOrientation\u001b[39m\u001b[38;5;124m'\u001b[39m)\n",
      "File \u001b[0;32m~/opt/anaconda3/envs/deepfake/lib/python3.11/site-packages/mne/io/brainvision/brainvision.py:376\u001b[0m, in \u001b[0;36m_aux_hdr_info\u001b[0;34m(hdr_fname)\u001b[0m\n\u001b[1;32m    374\u001b[0m \u001b[38;5;28;01mdef\u001b[39;00m \u001b[38;5;21m_aux_hdr_info\u001b[39m(hdr_fname):\n\u001b[1;32m    375\u001b[0m \u001b[38;5;250m    \u001b[39m\u001b[38;5;124;03m\"\"\"Aux function for _get_hdr_info.\"\"\"\u001b[39;00m\n\u001b[0;32m--> 376\u001b[0m     \u001b[38;5;28;01mwith\u001b[39;00m \u001b[38;5;28;43mopen\u001b[39;49m\u001b[43m(\u001b[49m\u001b[43mhdr_fname\u001b[49m\u001b[43m,\u001b[49m\u001b[43m \u001b[49m\u001b[38;5;124;43m'\u001b[39;49m\u001b[38;5;124;43mrb\u001b[39;49m\u001b[38;5;124;43m'\u001b[39;49m\u001b[43m)\u001b[49m \u001b[38;5;28;01mas\u001b[39;00m f:\n\u001b[1;32m    377\u001b[0m         \u001b[38;5;66;03m# extract the first section to resemble a cfg\u001b[39;00m\n\u001b[1;32m    378\u001b[0m         header \u001b[38;5;241m=\u001b[39m f\u001b[38;5;241m.\u001b[39mreadline()\n\u001b[1;32m    379\u001b[0m         codepage \u001b[38;5;241m=\u001b[39m \u001b[38;5;124m'\u001b[39m\u001b[38;5;124mutf-8\u001b[39m\u001b[38;5;124m'\u001b[39m\n",
      "\u001b[0;31mFileNotFoundError\u001b[0m: [Errno 2] No such file or directory: '/Users/admin/Downloads/sub-011.vhdr'"
     ]
    }
   ],
   "source": [
    "for i in [11, 12, 13, 14, 15, 16, 17, 18, 19, 22, 23, 24, 25, 5]:\n",
    "    if len(str(i)) < 2:\n",
    "        sbj_id = 'sub-00' + str(i)\n",
    "    else:\n",
    "        sbj_id = 'sub-0' + str(i)\n",
    "    print('Start working with:', sbj_id)\n",
    "    file_path = str(f'{sbj_id}.vhdr')\n",
    "    raw = mne.io.read_raw_brainvision(file_path, eog=['HEOG', 'VEOG'], misc=['BIP1'], preload=True)\n",
    "    raw.rename_channels(rename_mapping)\n",
    "    raw.set_montage(montage)\n",
    "    raws = data_cropper(raw)\n",
    "    output = []\n",
    "    for i in range(3):\n",
    "        raw = raws[i]\n",
    "        raw.notch_filter(50) \n",
    "        raw.filter(1,45)\n",
    "        #raw.info['bads'] = find_bads(raw)\n",
    "        #print('Delete channels №:', raw.info['bads'])\n",
    "        raw.plot(block = True)\n",
    "        raw.interpolate_bads()\n",
    "        ica = mne.preprocessing.ICA(n_components=20)\n",
    "        ica.fit(raw)\n",
    "        #ica.plot_sources(raw)\n",
    "        #ica.plot_components()\n",
    "        #raw.plot(block = True)\n",
    "        bad_answers = []\n",
    "        bad_ans, corrs = ica.find_bads_eog(raw, measure = 'correlation', threshold = 0.4)\n",
    "        bad_answers += bad_ans\n",
    "        #manually_bad = input()\n",
    "        #bad_answers += list(map(int, manually_bad.split()))\n",
    "        ica.exclude = bad_ans\n",
    "        print('Delete components №:', ica.exclude)\n",
    "        ica.apply(raw)\n",
    "        output.append(raw.copy())\n",
    "    raw = mne.concatenate_raws(output[0:2])\n",
    "    raw.save(f'{sbj_id}_experiment.fif', overwrite = True)\n",
    "    output[2].save(f'{sbj_id}_control.fif', overwrite = True)\n",
    "    del output, raws, raw"
   ]
  },
  {
   "cell_type": "code",
   "execution_count": 4,
   "id": "72c658ba-8189-4f09-8113-7b142290dc29",
   "metadata": {},
   "outputs": [
    {
     "name": "stdout",
     "output_type": "stream",
     "text": [
      "Extracting parameters from sub-001.vhdr...\n",
      "Setting channel info structure...\n",
      "Reading 0 ... 2072849  =      0.000 ...  4145.698 secs...\n"
     ]
    },
    {
     "name": "stderr",
     "output_type": "stream",
     "text": [
      "2025-03-05 17:43:52,648 - OpenGL.acceleratesupport - INFO - No OpenGL_accelerate module loaded: No module named 'OpenGL_accelerate'\n"
     ]
    },
    {
     "name": "stdout",
     "output_type": "stream",
     "text": [
      "Using qt as 2D backend.\n"
     ]
    },
    {
     "data": {
      "text/plain": [
       "<mne_qt_browser._pg_figure.MNEQtBrowser at 0x21b1585c050>"
      ]
     },
     "execution_count": 4,
     "metadata": {},
     "output_type": "execute_result"
    },
    {
     "name": "stdout",
     "output_type": "stream",
     "text": [
      "Channels marked as bad:\n",
      "none\n",
      "Attempting to create new mne-python configuration file:\n",
      "C:\\Users\\Семён\\.mne\\mne-python.json\n"
     ]
    }
   ],
   "source": [
    "sbj_id = 'sub-001'\n",
    "file_path = str(f'{sbj_id}.vhdr')\n",
    "raw = mne.io.read_raw_brainvision(file_path, eog=['HEOG', 'VEOG'], misc=['BIP1'], preload=True)\n",
    "raw.plot()"
   ]
  },
  {
   "cell_type": "code",
   "execution_count": null,
   "id": "f98c96f8-6d81-4c9d-8765-1a9d643eae27",
   "metadata": {},
   "outputs": [],
   "source": [
    "for i in range(1, 16):\n",
    "    if len(str(i)) < 2:\n",
    "        sbj_id = 'sub-00' + str(i)\n",
    "    else:\n",
    "        sbj_id = 'sub-0' + str(i)\n",
    "    file_path = f'{sbj_id}_preprocessing.fif'\n",
    "    raw = mne.io.read_raw_fif(file_path, preload = True)\n",
    "    raw.plot(block = True)\n",
    "    raw.interpolate_bads()\n",
    "    raw.save(f'{sbj_id}_preprocessing.fif', overwrite = True)"
   ]
  },
  {
   "cell_type": "code",
   "execution_count": 40,
   "id": "214edf19-eb1c-471e-a2de-fb30382d9bb9",
   "metadata": {},
   "outputs": [
    {
     "name": "stdout",
     "output_type": "stream",
     "text": [
      "Opening raw data file sub-008_experiment.fif...\n",
      "    Range : 33264 ... 1333124 =     66.528 ...  2666.248 secs\n",
      "Ready.\n"
     ]
    },
    {
     "name": "stderr",
     "output_type": "stream",
     "text": [
      "C:\\Users\\Семён\\AppData\\Local\\Temp\\ipykernel_24892\\2191249748.py:3: RuntimeWarning: This filename (sub-008_experiment.fif) does not conform to MNE naming conventions. All raw files should end with raw.fif, raw_sss.fif, raw_tsss.fif, _meg.fif, _eeg.fif, _ieeg.fif, raw.fif.gz, raw_sss.fif.gz, raw_tsss.fif.gz, _meg.fif.gz, _eeg.fif.gz or _ieeg.fif.gz\n",
      "  raw = mne.io.read_raw_fif(file_path)\n"
     ]
    },
    {
     "name": "stdout",
     "output_type": "stream",
     "text": [
      "Channels marked as bad:\n",
      "none\n",
      "Used Annotations descriptions: ['Stimulus/S  1', 'Stimulus/S  3', 'Stimulus/S 11', 'Stimulus/S 12', 'Stimulus/S 20', 'Stimulus/S 21', 'Stimulus/S 22', 'Stimulus/S 32']\n",
      "121\n",
      "{32, 1, 3, 11, 12, 20, 21, 22}\n"
     ]
    }
   ],
   "source": [
    "sbj_id = 'sub-001'\n",
    "file_path = f'{sbj_id}_experiment.fif'\n",
    "raw = mne.io.read_raw_fif(file_path)\n",
    "raw.plot(block = True)\n",
    "raw.interpolate_bads()\n",
    "events = mne.events_from_annotations(raw, event_id = lambda x: int(x.split()[1]))[0]"
   ]
  },
  {
   "cell_type": "code",
   "execution_count": 26,
   "id": "2e768cf2-78f6-4f06-b44a-06947fea0ca4",
   "metadata": {},
   "outputs": [
    {
     "data": {
      "text/plain": [
       "(array([[  34264,       0,       1],\n",
       "        [  34764,       0,       4],\n",
       "        [  35531,       0,       3],\n",
       "        ...,\n",
       "        [1331191,       0,       7],\n",
       "        [1331941,       0,       6],\n",
       "        [1332624,       0,       8]]),\n",
       " {'Stimulus/S  1': 1,\n",
       "  'Stimulus/S  3': 2,\n",
       "  'Stimulus/S 11': 3,\n",
       "  'Stimulus/S 12': 4,\n",
       "  'Stimulus/S 20': 5,\n",
       "  'Stimulus/S 21': 6,\n",
       "  'Stimulus/S 22': 7,\n",
       "  'Stimulus/S 32': 8})"
      ]
     },
     "execution_count": 26,
     "metadata": {},
     "output_type": "execute_result"
    }
   ],
   "source": [
    "events"
   ]
  },
  {
   "cell_type": "markdown",
   "id": "e3bc4d8b-d7e3-446d-9dc0-7873a1705c57",
   "metadata": {
    "tags": []
   },
   "source": [
    "___________________"
   ]
  },
  {
   "cell_type": "code",
   "execution_count": 47,
   "id": "0cd3fd2b-d8be-464a-8a2d-be82844486e2",
   "metadata": {
    "tags": []
   },
   "outputs": [
    {
     "name": "stdout",
     "output_type": "stream",
     "text": [
      "Used Annotations descriptions: ['New Segment/', 'Stimulus/S  1', 'Stimulus/S  2', 'Stimulus/S  3', 'Stimulus/S  4', 'Stimulus/S  5', 'Stimulus/S 11', 'Stimulus/S 12', 'Stimulus/S 20', 'Stimulus/S 21', 'Stimulus/S 22', 'Stimulus/S 32']\n"
     ]
    },
    {
     "data": {
      "text/plain": [
       "102"
      ]
     },
     "execution_count": 47,
     "metadata": {},
     "output_type": "execute_result"
    },
    {
     "name": "stdout",
     "output_type": "stream",
     "text": [
      "Channels marked as bad:\n",
      "none\n",
      "Channels marked as bad:\n",
      "none\n",
      "Channels marked as bad:\n",
      "none\n"
     ]
    }
   ],
   "source": [
    "events = mne.events_from_annotations(raw)[0]\n",
    "len(events[events[:, 2]==5])"
   ]
  },
  {
   "cell_type": "code",
   "execution_count": 46,
   "id": "4491305c-5367-48b0-b4a3-c4bfa5472122",
   "metadata": {
    "tags": []
   },
   "outputs": [],
   "source": [
    "montage = mne.channels.make_standard_montage(\"standard_1020\")"
   ]
  },
  {
   "cell_type": "code",
   "execution_count": 47,
   "id": "7377210c-3cd8-47cf-ba8d-8573a0a0d286",
   "metadata": {
    "tags": []
   },
   "outputs": [],
   "source": [
    "rename_mapping = {\n",
    "    \"FCz\": \"C1\",\n",
    "    \"C1\": \"C5\",\n",
    "    \"C5\": \"TP7\",\n",
    "    \"TP7\": \"CP3\",\n",
    "    \"CP3\": \"P1\",\n",
    "    \"P1\": \"P5\",\n",
    "    \"P5\": \"PO7\",\n",
    "    \"PO7\": \"PO3\",\n",
    "    \"PO3\": \"POz\",\n",
    "    \"POz\": \"PO4\",\n",
    "    \"PO4\": \"PO8\",\n",
    "    \"PO8\": \"P6\",\n",
    "    \"P6\": \"P2\",\n",
    "    \"P2\": \"CPz\",\n",
    "    \"CPz\": \"CP4\",\n",
    "    \"CP4\": \"TP8\",\n",
    "    \"TP8\": \"C6\",\n",
    "    \"C6\": \"C2\",\n",
    "    \"C2\": \"FC4\",\n",
    "    \"FC4\": \"FT8\",\n",
    "    \"FT8\": \"F6\",\n",
    "    \"F6\": \"AF8\",\n",
    "    \"F2\": \"AF4\",\n",
    "    \"AF4\": \"F2\",\n",
    "    \"AF8\": \"FCz\"\n",
    "}\n",
    "montage = mne.channels.make_standard_montage(\"standard_1020\")"
   ]
  },
  {
   "cell_type": "code",
   "execution_count": 48,
   "id": "fb7c0c48-1797-4205-888b-18d9ad780942",
   "metadata": {
    "tags": []
   },
   "outputs": [
    {
     "data": {
      "text/html": [
       "<table class=\"table table-hover table-striped table-sm table-responsive small\">\n",
       "    <tr>\n",
       "        <th>Measurement date</th>\n",
       "        \n",
       "        <td>November 11, 2024  13:28:40 GMT</td>\n",
       "        \n",
       "    </tr>\n",
       "    <tr>\n",
       "        <th>Experimenter</th>\n",
       "        \n",
       "        <td>Unknown</td>\n",
       "        \n",
       "    </tr>\n",
       "        <th>Participant</th>\n",
       "        \n",
       "        <td>Unknown</td>\n",
       "        \n",
       "    </tr>\n",
       "    <tr>\n",
       "        <th>Digitized points</th>\n",
       "        \n",
       "        <td>Not available</td>\n",
       "        \n",
       "    </tr>\n",
       "    <tr>\n",
       "        <th>Good channels</th>\n",
       "        <td>60 EEG, 2 EOG</td>\n",
       "    </tr>\n",
       "    <tr>\n",
       "        <th>Bad channels</th>\n",
       "        <td>None</td>\n",
       "    </tr>\n",
       "    <tr>\n",
       "        <th>EOG channels</th>\n",
       "        <td>HEOG, VEOG</td>\n",
       "    </tr>\n",
       "    <tr>\n",
       "        <th>ECG channels</th>\n",
       "        <td>Not available</td>\n",
       "    \n",
       "    <tr>\n",
       "        <th>Sampling frequency</th>\n",
       "        <td>500.00 Hz</td>\n",
       "    </tr>\n",
       "    \n",
       "    \n",
       "    <tr>\n",
       "        <th>Highpass</th>\n",
       "        <td>0.00 Hz</td>\n",
       "    </tr>\n",
       "    \n",
       "    \n",
       "    <tr>\n",
       "        <th>Lowpass</th>\n",
       "        <td>250.00 Hz</td>\n",
       "    </tr>\n",
       "    \n",
       "    \n",
       "    \n",
       "    <tr>\n",
       "        <th>Filenames</th>\n",
       "        <td>sub-016.eeg</td>\n",
       "    </tr>\n",
       "    \n",
       "    <tr>\n",
       "        <th>Duration</th>\n",
       "        <td>01:11:60 (HH:MM:SS)</td>\n",
       "    </tr>\n",
       "</table>"
      ],
      "text/plain": [
       "<RawBrainVision | sub-016.eeg, 62 x 2159900 (4319.8 s), ~1021.7 MB, data loaded>"
      ]
     },
     "execution_count": 48,
     "metadata": {},
     "output_type": "execute_result"
    }
   ],
   "source": [
    "raw.rename_channels(rename_mapping)"
   ]
  },
  {
   "cell_type": "code",
   "execution_count": 52,
   "id": "801e54eb-bea6-4f53-b7c0-71ca28334f86",
   "metadata": {
    "tags": []
   },
   "outputs": [
    {
     "name": "stdout",
     "output_type": "stream",
     "text": [
      "Extracting parameters from sub-031.vhdr...\n",
      "Setting channel info structure...\n",
      "Reading 0 ... 2128574  =      0.000 ...  4257.148 secs...\n"
     ]
    },
    {
     "data": {
      "text/plain": [
       "<mne_qt_browser._pg_figure.MNEQtBrowser at 0x1f8b48b11c0>"
      ]
     },
     "execution_count": 52,
     "metadata": {},
     "output_type": "execute_result"
    },
    {
     "name": "stdout",
     "output_type": "stream",
     "text": [
      "Channels marked as bad:\n",
      "none\n"
     ]
    }
   ],
   "source": [
    "sbj_id = 'sub-031'\n",
    "file_path = str(f'{sbj_id}.vhdr')\n",
    "raw = mne.io.read_raw_brainvision(file_path, eog=['HEOG', 'VEOG'], misc=['BIP1'], preload=True)\n",
    "raw.plot()"
   ]
  }
 ],
 "metadata": {
  "kernelspec": {
   "display_name": "Python 3 (ipykernel)",
   "language": "python",
   "name": "python3"
  },
  "language_info": {
   "codemirror_mode": {
    "name": "ipython",
    "version": 3
   },
   "file_extension": ".py",
   "mimetype": "text/x-python",
   "name": "python",
   "nbconvert_exporter": "python",
   "pygments_lexer": "ipython3",
   "version": "3.11.11"
  }
 },
 "nbformat": 4,
 "nbformat_minor": 5
}
